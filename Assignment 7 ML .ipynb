{
 "cells": [
  {
   "cell_type": "code",
   "execution_count": null,
   "id": "1ec75a19",
   "metadata": {},
   "outputs": [],
   "source": [
    "import numpy as np\n",
    "import pandas as pd\n",
    "import matplotlib.pyplot as plt\n",
    "data = pd.read_csv(r\"C:\\Users\\HP\\OneDrive\\Desktop\\Real estate.csv\")\n",
    "data"
   ]
  },
  {
   "cell_type": "code",
   "execution_count": null,
   "id": "e32761a6",
   "metadata": {},
   "outputs": [],
   "source": [
    "data.shape"
   ]
  },
  {
   "cell_type": "code",
   "execution_count": null,
   "id": "b35009dc",
   "metadata": {},
   "outputs": [],
   "source": [
    "#shuffle dataframe using sample function\n",
    "data = data.sample(frac=1)\n",
    "x = data.drop('Y house price of unit area',axis=1)\n",
    "y = data['Y house price of unit area']"
   ]
  },
  {
   "cell_type": "code",
   "execution_count": null,
   "id": "3af5ea86",
   "metadata": {},
   "outputs": [],
   "source": [
    "#splitting\n",
    "import math\n",
    "n_train = math.floor(ratio*x.shape[0])\n",
    "n_test = math.ceil(1-ratio)*x.shape[0]\n",
    "x_train = x[:n_train]\n",
    "y_train = y[:n_train]\n",
    "x_test = x[n_train:]\n",
    "y_test = y[n_train:]"
   ]
  },
  {
   "cell_type": "code",
   "execution_count": null,
   "id": "ef6ce5c8",
   "metadata": {},
   "outputs": [],
   "source": [
    "def cost_function(x,y,w,b):\n",
    "    m = len(y)\n",
    "    j = np.sum((((x.dot(w)+b)-y)**2)/(2*len(y)))\n",
    "    return j"
   ]
  },
  {
   "cell_type": "code",
   "execution_count": null,
   "id": "552e82ad",
   "metadata": {},
   "outputs": [],
   "source": [
    "def gradient_descent(x,y,w,b,learning_rate,epochs):\n",
    "    history = [0]*epochs\n",
    "    m = len(y)\n",
    "    for epoch in range (epochs):\n",
    "        z = x.dot(w)+b\n",
    "        loss = z-y\n",
    "        gradient = x.T.dot(loss)/m\n",
    "        bias_gradient = np.sum(loss)/m\n",
    "        w = w-learning_rate*gradient\n",
    "        b = b-learning_rate*bias_gradient\n",
    "        j = cost_function(x,y,w,b)\n",
    "        history[epoch] = j\n",
    "        return s,b, history"
   ]
  },
  {
   "cell_type": "code",
   "execution_count": null,
   "id": "9ef34df6",
   "metadata": {},
   "outputs": [],
   "source": [
    "w,b,c=gradient_descent(x_train,y_train,np.zeros(x_train.shape[1]),0,0.002,epochs=1000)"
   ]
  },
  {
   "cell_type": "code",
   "execution_count": null,
   "id": "14c147b7",
   "metadata": {},
   "outputs": [],
   "source": [
    "plt.plot(c)"
   ]
  },
  {
   "cell_type": "code",
   "execution_count": null,
   "id": "6047b53b",
   "metadata": {},
   "outputs": [],
   "source": [
    "def predict(x,w,b):\n",
    "    return x.dot(w)+b\n",
    "y_pred=predict(x_test,w,b)"
   ]
  },
  {
   "cell_type": "code",
   "execution_count": null,
   "id": "ee85c27e",
   "metadata": {},
   "outputs": [],
   "source": [
    "def r2score"
   ]
  }
 ],
 "metadata": {
  "kernelspec": {
   "display_name": "Python 3 (ipykernel)",
   "language": "python",
   "name": "python3"
  },
  "language_info": {
   "codemirror_mode": {
    "name": "ipython",
    "version": 3
   },
   "file_extension": ".py",
   "mimetype": "text/x-python",
   "name": "python",
   "nbconvert_exporter": "python",
   "pygments_lexer": "ipython3",
   "version": "3.9.7"
  }
 },
 "nbformat": 4,
 "nbformat_minor": 5
}
